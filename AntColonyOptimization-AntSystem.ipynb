{
 "cells": [
  {
   "cell_type": "markdown",
   "metadata": {},
   "source": [
    "Monte Carlo Ant System"
   ]
  },
  {
   "cell_type": "code",
   "execution_count": 23,
   "metadata": {
    "collapsed": true
   },
   "outputs": [],
   "source": [
    "import numpy as np\n",
    "import matplotlib.pyplot as plt\n",
    "from math import hypot"
   ]
  },
  {
   "cell_type": "markdown",
   "metadata": {},
   "source": [
    "Parameter setting"
   ]
  },
  {
   "cell_type": "code",
   "execution_count": 24,
   "metadata": {
    "collapsed": true
   },
   "outputs": [],
   "source": [
    "n=100\n",
    "m=100\n",
    "numberOfIterations=10\n",
    "ro=0.5\n",
    "alpha=1\n",
    "beta=5"
   ]
  },
  {
   "cell_type": "markdown",
   "metadata": {},
   "source": [
    "Initial Trail"
   ]
  },
  {
   "cell_type": "code",
   "execution_count": 25,
   "metadata": {
    "collapsed": true
   },
   "outputs": [],
   "source": [
    "tau=np.ones((n,n))*0.0001"
   ]
  },
  {
   "cell_type": "markdown",
   "metadata": {},
   "source": [
    "City generation"
   ]
  },
  {
   "cell_type": "code",
   "execution_count": 26,
   "metadata": {
    "collapsed": true
   },
   "outputs": [],
   "source": [
    "np.random.seed(2)\n",
    "\n",
    "#x=[0,0,0,0,1,1,1,1,2,2,2,2,3,3,3,3]\n",
    "#y=[0,1,2,3,0,1,2,3,0,1,2,3,0,1,2,3]\n",
    "grid=True\n",
    "if grid:\n",
    "    xx,yy  = np.meshgrid(np.linspace(0,1,10),np.linspace(0,1,10))\n",
    "    xxx = xx.reshape([1,100])\n",
    "    yyy = yy.reshape([1,100])\n",
    "    x=xxx[0,:]\n",
    "    y=yyy[0,:]\n",
    "else:\n",
    "    xy=np.random.rand(2,n)\n",
    "    x=xy[0]\n",
    "    y=xy[1]"
   ]
  },
  {
   "cell_type": "code",
   "execution_count": 27,
   "metadata": {
    "scrolled": true
   },
   "outputs": [
    {
     "data": {
      "image/png": "[encoded data removed]",
      "text/plain": [
       "<matplotlib.figure.Figure at 0x107c75240>"
      ]
     },
     "metadata": {},
     "output_type": "display_data"
    }
   ],
   "source": [
    "plt.plot(x,y,'ro')\n",
    "plt.title('Coordinates of cities')\n",
    "plt.xlabel('x (km)')\n",
    "plt.ylabel('y (km)')\n",
    "plt.show()"
   ]
  },
  {
   "cell_type": "markdown",
   "metadata": {},
   "source": [
    "Distance measurement"
   ]
  },
  {
   "cell_type": "code",
   "execution_count": 28,
   "metadata": {
    "collapsed": true
   },
   "outputs": [],
   "source": [
    "d=np.zeros((n,n))\n",
    "from math import hypot\n",
    "for i in range(0,n):\n",
    "    for j in range(0,n):\n",
    "        d[i,j] = hypot((x[i]-x[j]), (y[i]-y[j]))"
   ]
  },
  {
   "cell_type": "markdown",
   "metadata": {},
   "source": [
    "Heuristic information"
   ]
  },
  {
   "cell_type": "code",
   "execution_count": 29,
   "metadata": {
    "collapsed": true
   },
   "outputs": [],
   "source": [
    "h=np.zeros((n,n))\n",
    "for i in range(0,n):\n",
    "    for j in range(0,n):\n",
    "        if d[i,j]==0:\n",
    "            h[i,j]=0;\n",
    "        else:\n",
    "            h[i,j]=1/d[i,j];"
   ]
  },
  {
   "cell_type": "code",
   "execution_count": null,
   "metadata": {
    "scrolled": false
   },
   "outputs": [
    {
     "name": "stdout",
     "output_type": "stream",
     "text": [
      "Iteration=0\n",
      "The avg tour length=12.101177\n",
      "The shortest tour length=11.248452\n"
     ]
    },
    {
     "data": {
      "image/png": "[encoded data removed]",
      "text/plain": [
       "<matplotlib.figure.Figure at 0x107603da0>"
      ]
     },
     "metadata": {},
     "output_type": "display_data"
    },
    {
     "name": "stdout",
     "output_type": "stream",
     "text": [
      "Iteration=1\n",
      "The avg tour length=12.149737\n",
      "The shortest tour length=11.111111\n"
     ]
    },
    {
     "data": {
      "image/png": "[encoded data removed]",
      "text/plain": [
       "<matplotlib.figure.Figure at 0x107e0f278>"
      ]
     },
     "metadata": {},
     "output_type": "display_data"
    },
    {
     "name": "stdout",
     "output_type": "stream",
     "text": [
      "Iteration=2\n",
      "The avg tour length=11.651295\n",
      "The shortest tour length=11.111111\n"
     ]
    },
    {
     "data": {
      "image/png": "[encoded data removed]",
      "text/plain": [
       "<matplotlib.figure.Figure at 0x1076b7e10>"
      ]
     },
     "metadata": {},
     "output_type": "display_data"
    },
    {
     "name": "stdout",
     "output_type": "stream",
     "text": [
      "Iteration=3\n",
      "The avg tour length=11.626012\n",
      "The shortest tour length=11.111111\n"
     ]
    },
    {
     "data": {
      "image/png": "[encoded data removed]",
      "text/plain": [
       "<matplotlib.figure.Figure at 0x10789e358>"
      ]
     },
     "metadata": {},
     "output_type": "display_data"
    },
    {
     "name": "stdout",
     "output_type": "stream",
     "text": [
      "Iteration=4\n",
      "The avg tour length=11.566280\n",
      "The shortest tour length=11.111111\n"
     ]
    },
    {
     "data": {
      "image/png": "[encoded data removed]",
      "text/plain": [
       "<matplotlib.figure.Figure at 0x107c7aa20>"
      ]
     },
     "metadata": {},
     "output_type": "display_data"
    },
    {
     "name": "stdout",
     "output_type": "stream",
     "text": [
      "Iteration=5\n",
      "The avg tour length=11.697229\n",
      "The shortest tour length=11.111111\n"
     ]
    },
    {
     "data": {
      "image/png": "[encoded data removed]",
      "text/plain": [
       "<matplotlib.figure.Figure at 0x10839d9e8>"
      ]
     },
     "metadata": {},
     "output_type": "display_data"
    }
   ],
   "source": [
    "from random import randint\n",
    "road=np.ones((m,n))*(-10)\n",
    "deltaTau=np.zeros((n,n))\n",
    "#iteration \n",
    "for i in range(0,numberOfIterations):\n",
    "    road=np.ones((m,n))*(-10)\n",
    "    deltaTau=np.zeros((n,n))\n",
    "    #initializes start places\n",
    "    for j in range(0,m):\n",
    "        road[j,0]=int(randint(0, (n-1)))\n",
    "        #road[j,0]=j \n",
    "    for visit in range(0,(n-1)):\n",
    "        for ant in range(0,m):\n",
    "            destination=-1;\n",
    "            pMax=0;\n",
    "            sumC=0;\n",
    "            for c in range(0,n):       \n",
    "                if c not in road[ant,:]:\n",
    "                    sumC=sumC+((tau[int(road[ant,visit]),c]**alpha)*(h[int(road[ant,visit]),c]**beta))       \n",
    "            for city in range(0,n):\n",
    "                if city not in road[ant,:]:\n",
    "                    p=(tau[int(road[ant,visit]),city]*h[int(road[ant,visit]),city])/sumC           \n",
    "                    if (p>=pMax):\n",
    "                        pMax=p\n",
    "                        destination=city\n",
    "            road[ant,visit+1]=destination  \n",
    "    #calculates tour length\n",
    "    tourLength=np.zeros(m)\n",
    "    for mm in range(0,m):\n",
    "        for cc in range(0,(n-1)):\n",
    "            tourLength[mm]=tourLength[mm]+d[int(road[mm,cc]),int(road[mm,cc+1])]\n",
    "        tourLength[mm]=tourLength[mm]+d[int(road[mm,cc+1]),int(road[mm,0])]\n",
    "    print(\"Iteration=%d\" % i)\n",
    "    print(\"The avg tour length=%f\" % (np.sum(tourLength)/m))  \n",
    "    print(\"The shortest tour length=%f\" % np.min(tourLength))\n",
    "    index=np.argmin(tourLength)\n",
    "    for visitedCities in range(0, n-1):\n",
    "        plt.plot([x[int(road[index,visitedCities])], x[int(road[index,visitedCities+1])]],[y[int(road[index,visitedCities])], y[int(road[index,visitedCities+1])]],'ro-')\n",
    "    plt.plot([x[int(road[index,n-1])], x[int(road[index,0])]],[y[int(road[index,n-1])], y[int(road[index,0])]],'bo-')\n",
    "    plt.show()\n",
    "    #calculates sum of deltatau\n",
    "    for ii in range(0,m):\n",
    "        for jj in range(0,(n-1)):\n",
    "            deltaTau[int(road[ii,jj]),int(road[ii,jj+1])]=deltaTau[int(road[ii,jj]),int(road[ii,jj+1])]+(1/tourLength[ii])\n",
    "            deltaTau[int(road[ii,jj+1]),int(road[ii,jj])]=deltaTau[int(road[ii,jj]),int(road[ii,jj+1])]\n",
    "        deltaTau[int(road[ii,jj+1]),int(road[ii,0])]=deltaTau[int(road[ii,jj+1]),int(road[ii,0])]+(1/tourLength[ii])\n",
    "        deltaTau[int(road[ii,0]),int(road[ii,jj+1])]=deltaTau[int(road[ii,jj+1]),int(road[ii,0])]\n",
    "    for iii in range(0,n):\n",
    "        for jjj in range(0,n): \n",
    "            tau[iii,jjj]=(1-ro)*tau[iii,jjj]+deltaTau[iii,jjj]         "
   ]
  },
  {
   "cell_type": "code",
   "execution_count": null,
   "metadata": {
    "scrolled": false
   },
   "outputs": [],
   "source": [
    "index=np.argmin(tourLength)\n",
    "for visitedCities in range(0, n-1):\n",
    "    plt.plot([x[int(road[index,visitedCities])], x[int(road[index,visitedCities+1])]],[y[int(road[index,visitedCities])], y[int(road[index,visitedCities+1])]],'ro-')\n",
    "plt.plot([x[int(road[index,n-1])], x[int(road[index,0])]],[y[int(road[index,n-1])], y[int(road[index,0])]],'bo-')\n",
    "plt.show()"
   ]
  },
  {
   "cell_type": "code",
   "execution_count": null,
   "metadata": {},
   "outputs": [],
   "source": [
    "road[index]"
   ]
  },
  {
   "cell_type": "code",
   "execution_count": null,
   "metadata": {
    "collapsed": true
   },
   "outputs": [],
   "source": []
  }
 ],
 "metadata": {
  "kernelspec": {
   "display_name": "Python 3",
   "language": "python",
   "name": "python3"
  },
  "language_info": {
   "codemirror_mode": {
    "name": "ipython",
    "version": 3
   },
   "file_extension": ".py",
   "mimetype": "text/x-python",
   "name": "python",
   "nbconvert_exporter": "python",
   "pygments_lexer": "ipython3",
   "version": "3.5.2"
  }
 },
 "nbformat": 4,
 "nbformat_minor": 2
}
