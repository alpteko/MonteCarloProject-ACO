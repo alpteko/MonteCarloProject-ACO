{
 "cells": [
  {
   "cell_type": "markdown",
   "metadata": {},
   "source": [
    "Monte Carlo Ant System"
   ]
  },
  {
   "cell_type": "code",
   "execution_count": 101,
   "metadata": {
    "collapsed": true
   },
   "outputs": [],
   "source": [
    "import numpy as np\n",
    "import matplotlib.pyplot as plt\n",
    "from math import hypot"
   ]
  },
  {
   "cell_type": "markdown",
   "metadata": {},
   "source": [
    "Parameter setting"
   ]
  },
  {
   "cell_type": "code",
   "execution_count": 102,
   "metadata": {
    "collapsed": true
   },
   "outputs": [],
   "source": [
    "n=100\n",
    "m=100\n",
    "numberOfIterations=10\n",
    "ro=0.5\n",
    "alpha=1\n",
    "beta=5"
   ]
  },
  {
   "cell_type": "markdown",
   "metadata": {},
   "source": [
    "Initial Trail"
   ]
  },
  {
   "cell_type": "code",
   "execution_count": 103,
   "metadata": {
    "collapsed": true
   },
   "outputs": [],
   "source": [
    "tau=np.ones((n,n))*0.001"
   ]
  },
  {
   "cell_type": "markdown",
   "metadata": {},
   "source": [
    "City generation"
   ]
  },
  {
   "cell_type": "code",
   "execution_count": 104,
   "metadata": {},
   "outputs": [],
   "source": [
    "np.random.seed(2)\n",
    "xy=np.random.rand(2,n)\n",
    "#x=[0,0,0,0,1,1,1,1,2,2,2,2,3,3,3,3]\n",
    "#y=[0,1,2,3,0,1,2,3,0,1,2,3,0,1,2,3]\n",
    "x=xy[0]\n",
    "y=xy[1]"
   ]
  },
  {
   "cell_type": "code",
   "execution_count": 105,
   "metadata": {
    "scrolled": true
   },
   "outputs": [
    {
     "data": {
      "image/png": "[encoded data removed]",
      "text/plain": [
       "<matplotlib.figure.Figure at 0x107859358>"
      ]
     },
     "metadata": {},
     "output_type": "display_data"
    }
   ],
   "source": [
    "plt.plot(x,y,'ro')\n",
    "plt.title('Coordinates of cities')\n",
    "plt.xlabel('x (km)')\n",
    "plt.ylabel('y (km)')\n",
    "plt.show()"
   ]
  },
  {
   "cell_type": "markdown",
   "metadata": {},
   "source": [
    "Distance measurement"
   ]
  },
  {
   "cell_type": "code",
   "execution_count": 106,
   "metadata": {
    "collapsed": true
   },
   "outputs": [],
   "source": [
    "d=np.zeros((n,n))\n",
    "from math import hypot\n",
    "for i in range(0,n):\n",
    "    for j in range(0,n):\n",
    "        d[i,j] = hypot(x[i]-x[j], y[i]-y[j])"
   ]
  },
  {
   "cell_type": "markdown",
   "metadata": {},
   "source": [
    "Heuristic information"
   ]
  },
  {
   "cell_type": "code",
   "execution_count": 107,
   "metadata": {
    "collapsed": true
   },
   "outputs": [],
   "source": [
    "h=np.zeros((n,n))\n",
    "for i in range(0,n):\n",
    "    for j in range(0,n):\n",
    "        if d[i,j]==0:\n",
    "            h[i,j]=0;\n",
    "        else:\n",
    "            h[i,j]=1/d[i,j];"
   ]
  },
  {
   "cell_type": "code",
   "execution_count": 108,
   "metadata": {
    "scrolled": false
   },
   "outputs": [
    {
     "name": "stdout",
     "output_type": "stream",
     "text": [
      "Iteration=0\n",
      "The avg tour length=9.184247\n",
      "The shortest tour length=8.216267\n",
      "Iteration=1\n",
      "The avg tour length=9.016235\n",
      "The shortest tour length=8.458068\n",
      "Iteration=2\n",
      "The avg tour length=9.181355\n",
      "The shortest tour length=8.323632\n",
      "Iteration=3\n",
      "The avg tour length=9.301714\n",
      "The shortest tour length=8.356200\n",
      "Iteration=4\n",
      "The avg tour length=9.092183\n",
      "The shortest tour length=8.314795\n",
      "Iteration=5\n",
      "The avg tour length=9.154188\n",
      "The shortest tour length=8.326197\n",
      "Iteration=6\n",
      "The avg tour length=9.038987\n",
      "The shortest tour length=8.326197\n",
      "Iteration=7\n",
      "The avg tour length=9.144633\n",
      "The shortest tour length=8.326197\n",
      "Iteration=8\n",
      "The avg tour length=9.006316\n",
      "The shortest tour length=8.449414\n",
      "Iteration=9\n",
      "The avg tour length=9.114927\n",
      "The shortest tour length=8.366906\n"
     ]
    }
   ],
   "source": [
    "from random import randint\n",
    "road=np.ones((m,n))*(-10)\n",
    "deltaTau=np.zeros((n,n))\n",
    "#iteration \n",
    "for i in range(0,numberOfIterations):\n",
    "    road=np.ones((m,n))*(-10)\n",
    "    deltaTau=np.zeros((n,n))\n",
    "    #initializes start places\n",
    "    for j in range(0,m):\n",
    "        road[j,0]=int(randint(0, (n-1)))\n",
    "        #road[j,0]=j \n",
    "    for visit in range(0,(n-1)):\n",
    "        for ant in range(0,m):\n",
    "            destination=-1;\n",
    "            pMax=0;\n",
    "            sumC=0;\n",
    "            for c in range(0,n):       \n",
    "                if c not in road[ant,:]:\n",
    "                    sumC=sumC+((tau[int(road[ant,visit]),c]**alpha)*(h[int(road[ant,visit]),c]**beta))       \n",
    "            for city in range(0,n):\n",
    "                if city not in road[ant,:]:\n",
    "                    p=(tau[int(road[ant,visit]),city]*h[int(road[ant,visit]),city])/sumC           \n",
    "                    if (p>=pMax):\n",
    "                        pMax=p\n",
    "                        destination=city\n",
    "            road[ant,visit+1]=destination  \n",
    "    #calculates tour length\n",
    "    tourLength=np.zeros(m)\n",
    "    for mm in range(0,m):\n",
    "        for cc in range(0,(n-1)):\n",
    "            tourLength[mm]=tourLength[mm]+d[int(road[mm,cc]),int(road[mm,cc+1])]\n",
    "        tourLength[mm]=tourLength[mm]+d[int(road[mm,cc+1]),int(road[mm,0])]\n",
    "    print(\"Iteration=%d\" % i)\n",
    "    print(\"The avg tour length=%f\" % (np.sum(tourLength)/m))  \n",
    "    print(\"The shortest tour length=%f\" % np.min(tourLength))\n",
    "    #calculates sum of deltatau\n",
    "    for ii in range(0,m):\n",
    "        for jj in range(0,(n-1)):\n",
    "            deltaTau[int(road[ii,jj]),int(road[ii,jj+1])]=deltaTau[int(road[ii,jj]),int(road[ii,jj+1])]+(1/tourLength[ii])\n",
    "            deltaTau[int(road[ii,jj+1]),int(road[ii,jj])]=deltaTau[int(road[ii,jj]),int(road[ii,jj+1])]\n",
    "        deltaTau[int(road[ii,jj+1]),int(road[ii,0])]=deltaTau[int(road[ii,jj+1]),int(road[ii,0])]+(1/tourLength[ii])\n",
    "        deltaTau[int(road[ii,0]),int(road[ii,jj+1])]=deltaTau[int(road[ii,jj+1]),int(road[ii,0])]\n",
    "    for iii in range(0,n):\n",
    "        for jjj in range(0,n): \n",
    "            tau[iii,jjj]=(1-ro)*tau[iii,jjj]+deltaTau[iii,jjj]           "
   ]
  }
 ],
 "metadata": {
  "kernelspec": {
   "display_name": "Python 3",
   "language": "python",
   "name": "python3"
  },
  "language_info": {
   "codemirror_mode": {
    "name": "ipython",
    "version": 3
   },
   "file_extension": ".py",
   "mimetype": "text/x-python",
   "name": "python",
   "nbconvert_exporter": "python",
   "pygments_lexer": "ipython3",
   "version": "3.5.2"
  }
 },
 "nbformat": 4,
 "nbformat_minor": 2
}
