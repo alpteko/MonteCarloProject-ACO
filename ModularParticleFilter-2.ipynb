{
 "cells": [
  {
   "cell_type": "code",
   "execution_count": 1,
   "metadata": {
    "collapsed": true,
    "deletable": true,
    "editable": true
   },
   "outputs": [],
   "source": [
    "#%matplotlib inline\n",
    "from filterpy.monte_carlo import systematic_resample\n",
    "from numpy.linalg import norm\n",
    "from numpy.random import randn\n",
    "from numpy.random import seed\n",
    "import matplotlib.pyplot as plt\n",
    "import numpy as np\n",
    "from numpy.random import uniform \n",
    "import scipy.stats\n",
    "import math\n",
    "from sklearn.metrics import pairwise\n",
    "from sklearn.metrics import mean_squared_error"
   ]
  },
  {
   "cell_type": "code",
   "execution_count": 2,
   "metadata": {
    "collapsed": true,
    "deletable": true,
    "editable": true
   },
   "outputs": [],
   "source": [
    "T = 30\n",
    "N = 200\n",
    "x_v = 0.01 #gaussian noise in state update\n",
    "x_r = 0.1 #noise covariance"
   ]
  },
  {
   "cell_type": "code",
   "execution_count": 3,
   "metadata": {
    "collapsed": true,
    "deletable": true,
    "editable": true
   },
   "outputs": [],
   "source": [
    "def f_process(x, t, process_noise):\n",
    "    return 0.5*x + 25*x/(1 + x**2) + 8*math.cos(1.2*(t-1)) +  np.sqrt(process_noise)*np.random.randn()\n",
    "def f_observation(x):\n",
    "    return x**2/20\n",
    "def generate_data(process_noise, observation_noise, data_len):\n",
    "    x = np.zeros((data_len,1))\n",
    "    z = np.zeros((data_len,1))\n",
    "    for t in range(1,data_len):\n",
    "        x[t] = f_process(x[t-1], t,process_noise)\n",
    "        z[t] = f_observation(x[t]) +  np.sqrt(observation_noise)*np.random.randn()\n",
    "    #plt.figure(figsize=(30,15))\n",
    "    #plt.plot(z)\n",
    "    #plt.show()\n",
    "    #plt.figure(figsize=(30,15))\n",
    "    #plt.plot(x)\n",
    "    #plt.show()\n",
    "    return z, x"
   ]
  },
  {
   "cell_type": "code",
   "execution_count": 4,
   "metadata": {
    "collapsed": false,
    "deletable": true,
    "editable": true
   },
   "outputs": [],
   "source": [
    "def pf_aco(N , logWeights , x_P ):    \n",
    "    weights = np.exp(logWeights)\n",
    "    weights = np.exp(weights-np.max(weights))\n",
    "    weights = weights/np.sum(weights)\n",
    "    worst = np.argsort(weights)\n",
    "    worst_idx = worst[0:50] \n",
    "    #Assign the initial pheromones as particle weights\n",
    "    tau = np.zeros((N,N))\n",
    "    x_P_new = np.zeros_like(x_P)\n",
    "    for i in range(N):\n",
    "        tau[:,i] = np.exp(logWeights[i])\n",
    "    np.fill_diagonal(tau, 0)\n",
    "    \n",
    "    #pheromone evaporation rate\n",
    "    rho = 0.3\n",
    "    #threshold constant\n",
    "    t_const = 1\n",
    "    #deltaT : the amount of pheromone increase when an ant follows a path\n",
    "    deltaT = 0.4\n",
    "    #Eta parametresi reciprocal of the distances between particles to be calculated in the loop    \n",
    "    alpha = 1.0\n",
    "    beta = 1.0\n",
    "    #####\n",
    "    numOfIts=0\n",
    "    t_vector = np.zeros((N,1))\n",
    "    while (numOfIts<6) :        \n",
    "        #reciprocal of the distances between particles\n",
    "        eta = 1/pairwise.pairwise_distances(X=x_P,Y=None,metric='euclidean')\n",
    "        eta[np.isinf(eta)] = 0\n",
    "        \n",
    "        #For all particles, select pj to move towards according the ACO probability\n",
    "        #Initialize the probability vector\n",
    "        p = np.zeros(N)\n",
    "        targetIdx = np.zeros((N,1))\n",
    "        for i in range(N):\n",
    "            p[:] = (tau[i,:]**alpha)*(eta[i,:]**beta)/np.sum((tau[i,:]**alpha)*(eta[i,:]**beta))\n",
    "            targetIdx[i]= np.argmax(p)\n",
    "            #Move p_i towards target p_j\n",
    "            if i in worst_idx:\n",
    "                x_P_new[i]=x_P[i]+(x_P[int(targetIdx[i])]-x_P[i])/5\n",
    "            else:\n",
    "                x_P_new[i] = x_P[i]\n",
    "        x_P = np.copy(x_P_new);\n",
    "        #Update the pheromone levels on the trails\n",
    "        tau = (1-rho)*tau\n",
    "        for i in range(N):\n",
    "            tau[i,int(targetIdx[i])] = tau[i,int(targetIdx[i])]+deltaT\n",
    "        \n",
    "        #Check if all particles are with a certain threshold to their target particle               \n",
    "        '''\n",
    "        for i in range(N):\n",
    "            p_tar_Idx = int(targetIdx[i])\n",
    "            threshold = (1-weights[p_tar_Idx])*np.abs(np.random.randn())*t_const\n",
    "            if np.abs(x_P[i]-x_P[p_tar_Idx])<threshold:\n",
    "                t_vector[i]=1  \n",
    "        '''         \n",
    "        numOfIts = numOfIts+1\n",
    "    #print(numOfIts)\n",
    "    return x_P      "
   ]
  },
  {
   "cell_type": "code",
   "execution_count": 9,
   "metadata": {
    "collapsed": false,
    "deletable": true,
    "editable": true
   },
   "outputs": [],
   "source": [
    "def bootstap_pf(x_v,x_r,Z,particle_size,T, power_mode = 0):\n",
    "    x_particle = np.zeros((particle_size,1))\n",
    "    norm_weights = np.zeros(particle_size)\n",
    "    log_lik = np.zeros(particle_size)\n",
    "    x_estimate = np.zeros(T)\n",
    "    ess = np.zeros(T)\n",
    "    for t in range(1,T):\n",
    "        for j in range(particle_size):\n",
    "            x_particle[j] = f_process(x_particle[j],t,x_v);\n",
    "            z = f_observation(x_particle[j])\n",
    "            log_lik[j] = log_lik[j] + np.log(1/np.sqrt(2*np.pi*x_r)) - (Z[t] - z)**2/(2*x_r)\n",
    "        norm_weights = np.exp(log_lik-np.max(log_lik))\n",
    "        norm_weights = norm_weights/np.sum(norm_weights)        \n",
    "        x_estimate[t]  = np.average(x_particle, weights=norm_weights, axis=0)        \n",
    "        ess[t] = 1/(particle_size*np.sum(norm_weights**2))\n",
    "        ### Resampling\n",
    "        if power_mode == 0:\n",
    "            if ess[t]<0.9:  # Resampling step      \n",
    "                idx = np.random.choice(range(particle_size), p=norm_weights, size=particle_size)\n",
    "                x_particle[:] = x_particle[idx]\n",
    "                log_lik = np.zeros_like(log_lik)  \n",
    "        if power_mode ==1: #ACO\n",
    "                x_particle = pf_aco(particle_size , log_lik , x_particle)\n",
    "                for j in range(particle_size):\n",
    "                    z = f_observation(x_particle[j])\n",
    "                    log_lik[j] = log_lik[j] + np.log(1/np.sqrt(2*np.pi*x_r)) - (Z[t] - z)**2/(2*x_r)\n",
    "                norm_weights = np.exp(log_lik-np.max(log_lik))\n",
    "                norm_weights = norm_weights/np.sum(norm_weights)\n",
    "                ess[t] = 1/(particle_size*np.sum(norm_weights**2))\n",
    "                if ess[t]<0.9:  # Resampling step      \n",
    "                    x_estimate[t]  = np.average(x_particle, weights=norm_weights, axis=0)   \n",
    "                    idx = np.random.choice(range(particle_size), p=norm_weights, size=particle_size)\n",
    "                    x_particle[:] = x_particle[idx]\n",
    "                    log_lik = np.zeros_like(log_lik)\n",
    "    return x_estimate"
   ]
  },
  {
   "cell_type": "code",
   "execution_count": null,
   "metadata": {
    "collapsed": false,
    "scrolled": true
   },
   "outputs": [
    {
     "name": "stderr",
     "output_type": "stream",
     "text": [
      "/Library/Frameworks/Python.framework/Versions/3.6/lib/python3.6/site-packages/ipykernel/__main__.py:28: RuntimeWarning: divide by zero encountered in true_divide\n"
     ]
    }
   ],
   "source": [
    "T = 30\n",
    "err_aco = np.zeros(T)\n",
    "err = np.zeros(T)\n",
    "for j in range(T):\n",
    "    Z, X = generate_data(x_v,x_r,T)\n",
    "    M = 10\n",
    "    total_error = 0\n",
    "    total_error_aco = 0    \n",
    "    for i in range(M):\n",
    "        x_est = bootstap_pf(x_v,x_r,Z,N,T,0)\n",
    "        total_error += mean_squared_error(X,x_est)\n",
    "    for i in range(M):\n",
    "        x_est = bootstap_pf(x_v,x_r,Z,N,T,1)\n",
    "        total_error_aco += mean_squared_error(X,x_est)\n",
    "    err_aco[j] = total_error_aco/M\n",
    "    err[j] = total_error/M\n",
    "plt.figure(figsize=(30,15))\n",
    "plt.plot(err_aco,label='PF-ACO')\n",
    "plt.plot(err,label='PF')\n",
    "plt.legend()\n",
    "plt.show()\n"
   ]
  },
  {
   "cell_type": "code",
   "execution_count": null,
   "metadata": {
    "collapsed": true
   },
   "outputs": [],
   "source": []
  },
  {
   "cell_type": "code",
   "execution_count": null,
   "metadata": {
    "collapsed": true
   },
   "outputs": [],
   "source": []
  }
 ],
 "metadata": {
  "kernelspec": {
   "display_name": "Python 3",
   "language": "python",
   "name": "python3"
  },
  "language_info": {
   "codemirror_mode": {
    "name": "ipython",
    "version": 3
   },
   "file_extension": ".py",
   "mimetype": "text/x-python",
   "name": "python",
   "nbconvert_exporter": "python",
   "pygments_lexer": "ipython3",
   "version": "3.6.0"
  }
 },
 "nbformat": 4,
 "nbformat_minor": 2
}
